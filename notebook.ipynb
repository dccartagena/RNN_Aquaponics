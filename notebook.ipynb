{
 "metadata": {
  "language_info": {
   "codemirror_mode": {
    "name": "ipython",
    "version": 3
   },
   "file_extension": ".py",
   "mimetype": "text/x-python",
   "name": "python",
   "nbconvert_exporter": "python",
   "pygments_lexer": "ipython3",
   "version": 3
  },
  "orig_nbformat": 2
 },
 "nbformat": 4,
 "nbformat_minor": 2,
 "cells": [
  {
   "source": [
    "### Forecasting in Aquaponics"
   ],
   "cell_type": "markdown",
   "metadata": {}
  },
  {
   "source": [
    "Libraries and setup"
   ],
   "cell_type": "markdown",
   "metadata": {}
  },
  {
   "cell_type": "code",
   "execution_count": null,
   "metadata": {},
   "outputs": [],
   "source": [
    "import numpy as np\n",
    "import pandas as pd\n",
    "import matplotlib as mpl\n",
    "import matplotlib.pyplot as plt\n",
    "import seaborn as sns\n",
    "import tensorflow as tf\n",
    "import os\n",
    "\n",
    "os.environ['KMP_DUPLICATE_LIB_OK']='True'\n",
    "\n",
    "mpl.rcParams['figure.figsize'] = (14, 8)\n",
    "mpl.rcParams['axes.grid'] = True\n",
    "\n",
    "np.random.seed(10)"
   ]
  },
  {
   "source": [
    "Data adquisition methods"
   ],
   "cell_type": "markdown",
   "metadata": {}
  },
  {
   "cell_type": "code",
   "execution_count": null,
   "metadata": {},
   "outputs": [],
   "source": [
    "def read_file(textfile):\n",
    "    df = pd.read_csv(textfile, sep=\"\\t\")\n",
    "    df.drop(df.columns[0], axis=1, inplace=True)\n",
    "    print('Dataset ready')\n",
    "    return df\n",
    "\n",
    "textfile = \"dataset_aquaponics_03232021_04232021.txt\"\n",
    "df = read_file(textfile)"
   ]
  },
  {
   "source": [
    "Organize data in columns"
   ],
   "cell_type": "markdown",
   "metadata": {}
  },
  {
   "cell_type": "code",
   "execution_count": null,
   "metadata": {},
   "outputs": [],
   "source": [
    "\n",
    "df_grouped = pd.pivot_table(df, index = 'DateTime', columns = 'Label', values = 'Value')\n",
    "df_grouped.index = pd.to_datetime(df_grouped.index)\n",
    "\n",
    "start_date = pd.to_datetime('2021-04-01 00:00:00')\n",
    "end_date = pd.to_datetime('2021-04-10 23:59:59')\n",
    "\n",
    "df_grouped = df_grouped.loc[start_date:end_date]\n",
    "print(df_grouped.head)"
   ]
  },
  {
   "source": [
    "Data visualization"
   ],
   "cell_type": "markdown",
   "metadata": {}
  },
  {
   "cell_type": "code",
   "execution_count": null,
   "metadata": {},
   "outputs": [],
   "source": [
    "sample_sensor = 93\n",
    "\n",
    "df_grouped[sample_sensor].plot(x = 'DateTime', y = 'Value', kind = 'line')\n",
    "plt.xticks(rotation=20)\n",
    "plt.show()"
   ]
  },
  {
   "source": [
    "Target variables:\n",
    "\n",
    "* 4     = pH sump B\n",
    "* 5     = pH sump A\n",
    "* 8     = % oxygen B\n",
    "* 9     = % oxygen A\n",
    "* 18    = C02\n",
    "* 93*   = Weight cell 1\n",
    "* 99*   = Nitrate B \n",
    "* 100*  = Ammonia B\n",
    "* 103*  = Nitrate A \n",
    "* 104*  = Ammonia A\n",
    "* sensors are not online yet*"
   ],
   "cell_type": "markdown",
   "metadata": {}
  },
  {
   "cell_type": "code",
   "execution_count": null,
   "metadata": {},
   "outputs": [],
   "source": [
    "label_target = {4: 'pH sump B', \n",
    "                5: 'pH sump A', \n",
    "                8: '% oxygen B', \n",
    "                9: '% oxygen A', \n",
    "                18: 'C02'}"
   ]
  },
  {
   "source": [
    "Delete constant or corrupted-data columns"
   ],
   "cell_type": "markdown",
   "metadata": {}
  },
  {
   "cell_type": "code",
   "execution_count": null,
   "metadata": {},
   "outputs": [],
   "source": [
    "drop_signal = [12, 13, 14, 15, 22, 23, 24, 25, 32, 33, 35, 42, 43, 44, 46, 48, 49, 56, 63, 64, 65, 66, 67, 68, 69, 70, 71, 72, 73, 74, 75, 76, 77, 78, 79, 80, 81, 82, 83, 84, 85, 86, 93, 97, 98, 99, 100, 101, 103, 104, 105, 106, 111, 112, 113, 114]\n",
    "df_grouped  = df_grouped.drop(columns = drop_signal)\n",
    "print(df_grouped.first)"
   ]
  },
  {
   "source": [
    "Correlation analysis"
   ],
   "cell_type": "markdown",
   "metadata": {}
  },
  {
   "cell_type": "code",
   "execution_count": null,
   "metadata": {},
   "outputs": [],
   "source": [
    "corr_mat = np.abs(df_grouped.corr(method='pearson'))\n",
    "sns.heatmap(corr_mat)\n",
    "plt.show()\n",
    "\n",
    "corr_thl = 0.50\n",
    "corr_label = np.zeros(df_grouped.shape[1])\n",
    "\n",
    "for i in label_target:\n",
    "    corr_label = corr_label | (corr_mat[i] > corr_thl)\n",
    "\n",
    "df_grouped = df_grouped.loc[:, corr_label]\n",
    "print(df_grouped.first)"
   ]
  }
 ]
}